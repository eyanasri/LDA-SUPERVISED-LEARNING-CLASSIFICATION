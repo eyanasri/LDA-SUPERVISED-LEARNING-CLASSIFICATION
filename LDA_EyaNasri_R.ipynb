{
 "cells": [
  {
   "cell_type": "markdown",
   "id": "e49a63ca",
   "metadata": {},
   "source": [
    "# EYA NASRI 4ERP-BI2  "
   ]
  },
  {
   "cell_type": "markdown",
   "id": "44477b69",
   "metadata": {},
   "source": [
    "# Scoring: Analyse Discriminante avec R"
   ]
  },
  {
   "cell_type": "markdown",
   "id": "42c82050",
   "metadata": {},
   "source": [
    "### L’objectif est de discerner les informations importantes pour l’analyse prédictive c.-à-d. obtenir un système simple d’affectation des individus aux classes, avoir des indications sur le rôle (interprétation) et la pertinence (significativité) des variables, et disposer d’un mécanisme de sélection de variables."
   ]
  },
  {
   "cell_type": "code",
   "execution_count": 9,
   "id": "32a1366b",
   "metadata": {},
   "outputs": [
    {
     "data": {
      "text/html": [
       "<table>\n",
       "<thead><tr><th scope=col>ï..TYPE</th><th scope=col>MEOH</th><th scope=col>ACET</th><th scope=col>BU1</th><th scope=col>MEPR</th><th scope=col>ACAL</th><th scope=col>LNPRO1</th></tr></thead>\n",
       "<tbody>\n",
       "\t<tr><td>KIRSCH</td><td>  3.0 </td><td> 15.0 </td><td> 0.2  </td><td> 9.0  </td><td> 9.0  </td><td>5.86  </td></tr>\n",
       "\t<tr><td>KIRSCH</td><td> 23.0 </td><td> 13.0 </td><td> 0.8  </td><td> 9.0  </td><td> 2.0  </td><td>6.67  </td></tr>\n",
       "\t<tr><td>KIRSCH</td><td> 65.0 </td><td> 96.0 </td><td> 0.4  </td><td> 9.0  </td><td> 4.0  </td><td>5.31  </td></tr>\n",
       "\t<tr><td>KIRSCH</td><td>279.0 </td><td> 66.0 </td><td> 0.9  </td><td>36.0  </td><td> 4.8  </td><td>5.45  </td></tr>\n",
       "\t<tr><td>KIRSCH</td><td>292.0 </td><td>210.0 </td><td> 1.1  </td><td>34.0  </td><td> 8.0  </td><td>4.08  </td></tr>\n",
       "\t<tr><td>KIRSCH</td><td>371.0 </td><td>414.0 </td><td> 1.2  </td><td>39.0  </td><td> 9.0  </td><td>6.22  </td></tr>\n",
       "\t<tr><td>KIRSCH</td><td>393.0 </td><td>287.0 </td><td> 1.8  </td><td>41.0  </td><td> 9.7  </td><td>6.47  </td></tr>\n",
       "\t<tr><td>KIRSCH</td><td>394.0 </td><td>217.0 </td><td> 1.0  </td><td>31.0  </td><td> 8.6  </td><td>6.31  </td></tr>\n",
       "\t<tr><td>KIRSCH</td><td>418.0 </td><td> 62.0 </td><td> 0.8  </td><td>24.0  </td><td> 7.0  </td><td>5.83  </td></tr>\n",
       "\t<tr><td>KIRSCH</td><td>426.0 </td><td>204.0 </td><td> 1.3  </td><td>37.0  </td><td> 8.6  </td><td>6.07  </td></tr>\n",
       "\t<tr><td>KIRSCH</td><td>465.0 </td><td>267.0 </td><td> 1.5  </td><td>39.0  </td><td>17.0  </td><td>8.01  </td></tr>\n",
       "\t<tr><td>KIRSCH</td><td>469.0 </td><td>226.0 </td><td> 1.6  </td><td>35.0  </td><td> 8.0  </td><td>6.21  </td></tr>\n",
       "\t<tr><td>KIRSCH</td><td>475.0 </td><td>172.0 </td><td> 1.9  </td><td>33.0  </td><td>14.0  </td><td>6.30  </td></tr>\n",
       "\t<tr><td>KIRSCH</td><td>498.0 </td><td>343.0 </td><td> 2.3  </td><td>42.0  </td><td>21.0  </td><td>6.59  </td></tr>\n",
       "\t<tr><td>KIRSCH</td><td>507.0 </td><td>397.0 </td><td> 3.3  </td><td>30.0  </td><td>21.0  </td><td>5.98  </td></tr>\n",
       "\t<tr><td>KIRSCH</td><td>523.0 </td><td>367.0 </td><td> 2.6  </td><td>45.0  </td><td>25.0  </td><td>6.67  </td></tr>\n",
       "\t<tr><td>KIRSCH</td><td>583.0 </td><td>226.0 </td><td> 2.3  </td><td>46.0  </td><td>11.0  </td><td>6.49  </td></tr>\n",
       "\t<tr><td>KIRSCH</td><td>632.5 </td><td>342.3 </td><td> 2.2  </td><td>38.2  </td><td>13.3  </td><td>7.64  </td></tr>\n",
       "\t<tr><td>MIRAB </td><td>595.0 </td><td>410.0 </td><td>16.0  </td><td>24.0  </td><td>11.4  </td><td>5.09  </td></tr>\n",
       "\t<tr><td>MIRAB </td><td>630.0 </td><td>243.0 </td><td>13.0  </td><td>13.0  </td><td>13.0  </td><td>5.87  </td></tr>\n",
       "\t<tr><td>MIRAB </td><td>707.0 </td><td>131.0 </td><td>15.0  </td><td>28.0  </td><td> 9.0  </td><td>4.89  </td></tr>\n",
       "\t<tr><td>MIRAB </td><td>748.0 </td><td>346.0 </td><td>13.0  </td><td>28.0  </td><td>25.0  </td><td>4.43  </td></tr>\n",
       "\t<tr><td>MIRAB </td><td>771.0 </td><td>339.0 </td><td>21.0  </td><td>50.0  </td><td>13.0  </td><td>4.69  </td></tr>\n",
       "\t<tr><td>MIRAB </td><td>798.0 </td><td>123.0 </td><td>15.0  </td><td>30.0  </td><td> 9.6  </td><td>4.36  </td></tr>\n",
       "\t<tr><td>MIRAB </td><td>842.0 </td><td>299.0 </td><td>20.0  </td><td>27.0  </td><td>11.0  </td><td>3.95  </td></tr>\n",
       "\t<tr><td>MIRAB </td><td>847.0 </td><td>381.0 </td><td>16.0  </td><td>44.0  </td><td>20.0  </td><td>5.26  </td></tr>\n",
       "\t<tr><td>MIRAB </td><td>883.0 </td><td>205.0 </td><td>17.0  </td><td>32.0  </td><td>13.0  </td><td>5.34  </td></tr>\n",
       "\t<tr><td>MIRAB </td><td>885.0 </td><td> 41.0 </td><td>18.0  </td><td>34.0  </td><td> 4.7  </td><td>4.85  </td></tr>\n",
       "\t<tr><td>MIRAB </td><td>887.0 </td><td>423.0 </td><td> 9.3  </td><td>36.0  </td><td>15.0  </td><td>5.86  </td></tr>\n",
       "\t<tr><td>MIRAB </td><td>903.0 </td><td>312.0 </td><td>24.0  </td><td>24.0  </td><td> 7.0  </td><td>4.26  </td></tr>\n",
       "\t<tr><td>...</td><td>...</td><td>...</td><td>...</td><td>...</td><td>...</td><td>...</td></tr>\n",
       "\t<tr><td>POIRE</td><td> 546 </td><td>119  </td><td>12.0 </td><td>28   </td><td> 7.4 </td><td>3.30 </td></tr>\n",
       "\t<tr><td>POIRE</td><td> 620 </td><td>123  </td><td>20.0 </td><td>26   </td><td>18.0 </td><td>6.28 </td></tr>\n",
       "\t<tr><td>POIRE</td><td> 626 </td><td>149  </td><td>10.0 </td><td>15   </td><td> 7.6 </td><td>5.31 </td></tr>\n",
       "\t<tr><td>POIRE</td><td> 664 </td><td>150  </td><td>14.0 </td><td>32   </td><td> 7.7 </td><td>3.64 </td></tr>\n",
       "\t<tr><td>POIRE</td><td> 810 </td><td>176  </td><td>10.0 </td><td>58   </td><td> 6.0 </td><td>5.66 </td></tr>\n",
       "\t<tr><td>POIRE</td><td> 815 </td><td>147  </td><td>17.0 </td><td>39   </td><td>15.0 </td><td>5.87 </td></tr>\n",
       "\t<tr><td>POIRE</td><td> 817 </td><td>130  </td><td> 8.6 </td><td>21   </td><td> 8.6 </td><td>5.36 </td></tr>\n",
       "\t<tr><td>POIRE</td><td> 898 </td><td> 80  </td><td>19.0 </td><td>29   </td><td> 9.5 </td><td>4.09 </td></tr>\n",
       "\t<tr><td>POIRE</td><td> 910 </td><td>214  </td><td>24.0 </td><td>57   </td><td>13.0 </td><td>5.92 </td></tr>\n",
       "\t<tr><td>POIRE</td><td> 927 </td><td>155  </td><td>10.0 </td><td>27   </td><td>10.0 </td><td>4.13 </td></tr>\n",
       "\t<tr><td>POIRE</td><td> 938 </td><td>175  </td><td>22.0 </td><td>48   </td><td>12.0 </td><td>7.94 </td></tr>\n",
       "\t<tr><td>POIRE</td><td> 951 </td><td>153  </td><td>30.0 </td><td>51   </td><td>14.0 </td><td>4.54 </td></tr>\n",
       "\t<tr><td>POIRE</td><td> 970 </td><td>338  </td><td>15.0 </td><td>30   </td><td>14.0 </td><td>5.32 </td></tr>\n",
       "\t<tr><td>POIRE</td><td>1029 </td><td>182  </td><td>20.0 </td><td>54   </td><td>15.0 </td><td>5.63 </td></tr>\n",
       "\t<tr><td>POIRE</td><td>1040 </td><td>197  </td><td>18.0 </td><td>50   </td><td> 4.3 </td><td>4.28 </td></tr>\n",
       "\t<tr><td>POIRE</td><td>1087 </td><td>269  </td><td>16.0 </td><td>29   </td><td>10.0 </td><td>6.39 </td></tr>\n",
       "\t<tr><td>POIRE</td><td>1116 </td><td>113  </td><td>30.0 </td><td>69   </td><td>17.0 </td><td>4.03 </td></tr>\n",
       "\t<tr><td>POIRE</td><td>1119 </td><td>124  </td><td>19.0 </td><td>59   </td><td>15.0 </td><td>7.22 </td></tr>\n",
       "\t<tr><td>POIRE</td><td>1121 </td><td>181  </td><td>16.0 </td><td>32   </td><td>17.0 </td><td>3.91 </td></tr>\n",
       "\t<tr><td>POIRE</td><td>1135 </td><td>245  </td><td>18.0 </td><td>32   </td><td> 9.1 </td><td>6.81 </td></tr>\n",
       "\t<tr><td>POIRE</td><td>1148 </td><td>127  </td><td>30.0 </td><td>53   </td><td>16.0 </td><td>4.49 </td></tr>\n",
       "\t<tr><td>POIRE</td><td>1154 </td><td>203  </td><td>15.0 </td><td>56   </td><td>14.0 </td><td>3.91 </td></tr>\n",
       "\t<tr><td>POIRE</td><td>1187 </td><td>143  </td><td>30.0 </td><td>61   </td><td>14.0 </td><td>4.16 </td></tr>\n",
       "\t<tr><td>POIRE</td><td>1197 </td><td>152  </td><td>30.0 </td><td>62   </td><td>11.0 </td><td>4.85 </td></tr>\n",
       "\t<tr><td>POIRE</td><td>1237 </td><td>154  </td><td>30.0 </td><td>59   </td><td>10.0 </td><td>5.26 </td></tr>\n",
       "\t<tr><td>POIRE</td><td>1264 </td><td>224  </td><td>20.0 </td><td>49   </td><td>17.0 </td><td>6.23 </td></tr>\n",
       "\t<tr><td>POIRE</td><td>1286 </td><td>144  </td><td>30.0 </td><td>52   </td><td>15.0 </td><td>4.22 </td></tr>\n",
       "\t<tr><td>POIRE</td><td>1401 </td><td>219  </td><td>20.0 </td><td>41   </td><td>22.0 </td><td>4.14 </td></tr>\n",
       "\t<tr><td>POIRE</td><td>1501 </td><td>161  </td><td>19.0 </td><td>25   </td><td>21.0 </td><td>6.84 </td></tr>\n",
       "\t<tr><td>POIRE</td><td>1548 </td><td>254  </td><td>16.0 </td><td>46   </td><td>28.0 </td><td>4.64 </td></tr>\n",
       "</tbody>\n",
       "</table>\n"
      ],
      "text/latex": [
       "\\begin{tabular}{r|lllllll}\n",
       " ï..TYPE & MEOH & ACET & BU1 & MEPR & ACAL & LNPRO1\\\\\n",
       "\\hline\n",
       "\t KIRSCH &   3.0  &  15.0  &  0.2   &  9.0   &  9.0   & 5.86  \\\\\n",
       "\t KIRSCH &  23.0  &  13.0  &  0.8   &  9.0   &  2.0   & 6.67  \\\\\n",
       "\t KIRSCH &  65.0  &  96.0  &  0.4   &  9.0   &  4.0   & 5.31  \\\\\n",
       "\t KIRSCH & 279.0  &  66.0  &  0.9   & 36.0   &  4.8   & 5.45  \\\\\n",
       "\t KIRSCH & 292.0  & 210.0  &  1.1   & 34.0   &  8.0   & 4.08  \\\\\n",
       "\t KIRSCH & 371.0  & 414.0  &  1.2   & 39.0   &  9.0   & 6.22  \\\\\n",
       "\t KIRSCH & 393.0  & 287.0  &  1.8   & 41.0   &  9.7   & 6.47  \\\\\n",
       "\t KIRSCH & 394.0  & 217.0  &  1.0   & 31.0   &  8.6   & 6.31  \\\\\n",
       "\t KIRSCH & 418.0  &  62.0  &  0.8   & 24.0   &  7.0   & 5.83  \\\\\n",
       "\t KIRSCH & 426.0  & 204.0  &  1.3   & 37.0   &  8.6   & 6.07  \\\\\n",
       "\t KIRSCH & 465.0  & 267.0  &  1.5   & 39.0   & 17.0   & 8.01  \\\\\n",
       "\t KIRSCH & 469.0  & 226.0  &  1.6   & 35.0   &  8.0   & 6.21  \\\\\n",
       "\t KIRSCH & 475.0  & 172.0  &  1.9   & 33.0   & 14.0   & 6.30  \\\\\n",
       "\t KIRSCH & 498.0  & 343.0  &  2.3   & 42.0   & 21.0   & 6.59  \\\\\n",
       "\t KIRSCH & 507.0  & 397.0  &  3.3   & 30.0   & 21.0   & 5.98  \\\\\n",
       "\t KIRSCH & 523.0  & 367.0  &  2.6   & 45.0   & 25.0   & 6.67  \\\\\n",
       "\t KIRSCH & 583.0  & 226.0  &  2.3   & 46.0   & 11.0   & 6.49  \\\\\n",
       "\t KIRSCH & 632.5  & 342.3  &  2.2   & 38.2   & 13.3   & 7.64  \\\\\n",
       "\t MIRAB  & 595.0  & 410.0  & 16.0   & 24.0   & 11.4   & 5.09  \\\\\n",
       "\t MIRAB  & 630.0  & 243.0  & 13.0   & 13.0   & 13.0   & 5.87  \\\\\n",
       "\t MIRAB  & 707.0  & 131.0  & 15.0   & 28.0   &  9.0   & 4.89  \\\\\n",
       "\t MIRAB  & 748.0  & 346.0  & 13.0   & 28.0   & 25.0   & 4.43  \\\\\n",
       "\t MIRAB  & 771.0  & 339.0  & 21.0   & 50.0   & 13.0   & 4.69  \\\\\n",
       "\t MIRAB  & 798.0  & 123.0  & 15.0   & 30.0   &  9.6   & 4.36  \\\\\n",
       "\t MIRAB  & 842.0  & 299.0  & 20.0   & 27.0   & 11.0   & 3.95  \\\\\n",
       "\t MIRAB  & 847.0  & 381.0  & 16.0   & 44.0   & 20.0   & 5.26  \\\\\n",
       "\t MIRAB  & 883.0  & 205.0  & 17.0   & 32.0   & 13.0   & 5.34  \\\\\n",
       "\t MIRAB  & 885.0  &  41.0  & 18.0   & 34.0   &  4.7   & 4.85  \\\\\n",
       "\t MIRAB  & 887.0  & 423.0  &  9.3   & 36.0   & 15.0   & 5.86  \\\\\n",
       "\t MIRAB  & 903.0  & 312.0  & 24.0   & 24.0   &  7.0   & 4.26  \\\\\n",
       "\t ... & ... & ... & ... & ... & ... & ...\\\\\n",
       "\t POIRE &  546  & 119   & 12.0  & 28    &  7.4  & 3.30 \\\\\n",
       "\t POIRE &  620  & 123   & 20.0  & 26    & 18.0  & 6.28 \\\\\n",
       "\t POIRE &  626  & 149   & 10.0  & 15    &  7.6  & 5.31 \\\\\n",
       "\t POIRE &  664  & 150   & 14.0  & 32    &  7.7  & 3.64 \\\\\n",
       "\t POIRE &  810  & 176   & 10.0  & 58    &  6.0  & 5.66 \\\\\n",
       "\t POIRE &  815  & 147   & 17.0  & 39    & 15.0  & 5.87 \\\\\n",
       "\t POIRE &  817  & 130   &  8.6  & 21    &  8.6  & 5.36 \\\\\n",
       "\t POIRE &  898  &  80   & 19.0  & 29    &  9.5  & 4.09 \\\\\n",
       "\t POIRE &  910  & 214   & 24.0  & 57    & 13.0  & 5.92 \\\\\n",
       "\t POIRE &  927  & 155   & 10.0  & 27    & 10.0  & 4.13 \\\\\n",
       "\t POIRE &  938  & 175   & 22.0  & 48    & 12.0  & 7.94 \\\\\n",
       "\t POIRE &  951  & 153   & 30.0  & 51    & 14.0  & 4.54 \\\\\n",
       "\t POIRE &  970  & 338   & 15.0  & 30    & 14.0  & 5.32 \\\\\n",
       "\t POIRE & 1029  & 182   & 20.0  & 54    & 15.0  & 5.63 \\\\\n",
       "\t POIRE & 1040  & 197   & 18.0  & 50    &  4.3  & 4.28 \\\\\n",
       "\t POIRE & 1087  & 269   & 16.0  & 29    & 10.0  & 6.39 \\\\\n",
       "\t POIRE & 1116  & 113   & 30.0  & 69    & 17.0  & 4.03 \\\\\n",
       "\t POIRE & 1119  & 124   & 19.0  & 59    & 15.0  & 7.22 \\\\\n",
       "\t POIRE & 1121  & 181   & 16.0  & 32    & 17.0  & 3.91 \\\\\n",
       "\t POIRE & 1135  & 245   & 18.0  & 32    &  9.1  & 6.81 \\\\\n",
       "\t POIRE & 1148  & 127   & 30.0  & 53    & 16.0  & 4.49 \\\\\n",
       "\t POIRE & 1154  & 203   & 15.0  & 56    & 14.0  & 3.91 \\\\\n",
       "\t POIRE & 1187  & 143   & 30.0  & 61    & 14.0  & 4.16 \\\\\n",
       "\t POIRE & 1197  & 152   & 30.0  & 62    & 11.0  & 4.85 \\\\\n",
       "\t POIRE & 1237  & 154   & 30.0  & 59    & 10.0  & 5.26 \\\\\n",
       "\t POIRE & 1264  & 224   & 20.0  & 49    & 17.0  & 6.23 \\\\\n",
       "\t POIRE & 1286  & 144   & 30.0  & 52    & 15.0  & 4.22 \\\\\n",
       "\t POIRE & 1401  & 219   & 20.0  & 41    & 22.0  & 4.14 \\\\\n",
       "\t POIRE & 1501  & 161   & 19.0  & 25    & 21.0  & 6.84 \\\\\n",
       "\t POIRE & 1548  & 254   & 16.0  & 46    & 28.0  & 4.64 \\\\\n",
       "\\end{tabular}\n"
      ],
      "text/markdown": [
       "\n",
       "| ï..TYPE | MEOH | ACET | BU1 | MEPR | ACAL | LNPRO1 |\n",
       "|---|---|---|---|---|---|---|\n",
       "| KIRSCH |   3.0  |  15.0  |  0.2   |  9.0   |  9.0   | 5.86   |\n",
       "| KIRSCH |  23.0  |  13.0  |  0.8   |  9.0   |  2.0   | 6.67   |\n",
       "| KIRSCH |  65.0  |  96.0  |  0.4   |  9.0   |  4.0   | 5.31   |\n",
       "| KIRSCH | 279.0  |  66.0  |  0.9   | 36.0   |  4.8   | 5.45   |\n",
       "| KIRSCH | 292.0  | 210.0  |  1.1   | 34.0   |  8.0   | 4.08   |\n",
       "| KIRSCH | 371.0  | 414.0  |  1.2   | 39.0   |  9.0   | 6.22   |\n",
       "| KIRSCH | 393.0  | 287.0  |  1.8   | 41.0   |  9.7   | 6.47   |\n",
       "| KIRSCH | 394.0  | 217.0  |  1.0   | 31.0   |  8.6   | 6.31   |\n",
       "| KIRSCH | 418.0  |  62.0  |  0.8   | 24.0   |  7.0   | 5.83   |\n",
       "| KIRSCH | 426.0  | 204.0  |  1.3   | 37.0   |  8.6   | 6.07   |\n",
       "| KIRSCH | 465.0  | 267.0  |  1.5   | 39.0   | 17.0   | 8.01   |\n",
       "| KIRSCH | 469.0  | 226.0  |  1.6   | 35.0   |  8.0   | 6.21   |\n",
       "| KIRSCH | 475.0  | 172.0  |  1.9   | 33.0   | 14.0   | 6.30   |\n",
       "| KIRSCH | 498.0  | 343.0  |  2.3   | 42.0   | 21.0   | 6.59   |\n",
       "| KIRSCH | 507.0  | 397.0  |  3.3   | 30.0   | 21.0   | 5.98   |\n",
       "| KIRSCH | 523.0  | 367.0  |  2.6   | 45.0   | 25.0   | 6.67   |\n",
       "| KIRSCH | 583.0  | 226.0  |  2.3   | 46.0   | 11.0   | 6.49   |\n",
       "| KIRSCH | 632.5  | 342.3  |  2.2   | 38.2   | 13.3   | 7.64   |\n",
       "| MIRAB  | 595.0  | 410.0  | 16.0   | 24.0   | 11.4   | 5.09   |\n",
       "| MIRAB  | 630.0  | 243.0  | 13.0   | 13.0   | 13.0   | 5.87   |\n",
       "| MIRAB  | 707.0  | 131.0  | 15.0   | 28.0   |  9.0   | 4.89   |\n",
       "| MIRAB  | 748.0  | 346.0  | 13.0   | 28.0   | 25.0   | 4.43   |\n",
       "| MIRAB  | 771.0  | 339.0  | 21.0   | 50.0   | 13.0   | 4.69   |\n",
       "| MIRAB  | 798.0  | 123.0  | 15.0   | 30.0   |  9.6   | 4.36   |\n",
       "| MIRAB  | 842.0  | 299.0  | 20.0   | 27.0   | 11.0   | 3.95   |\n",
       "| MIRAB  | 847.0  | 381.0  | 16.0   | 44.0   | 20.0   | 5.26   |\n",
       "| MIRAB  | 883.0  | 205.0  | 17.0   | 32.0   | 13.0   | 5.34   |\n",
       "| MIRAB  | 885.0  |  41.0  | 18.0   | 34.0   |  4.7   | 4.85   |\n",
       "| MIRAB  | 887.0  | 423.0  |  9.3   | 36.0   | 15.0   | 5.86   |\n",
       "| MIRAB  | 903.0  | 312.0  | 24.0   | 24.0   |  7.0   | 4.26   |\n",
       "| ... | ... | ... | ... | ... | ... | ... |\n",
       "| POIRE |  546  | 119   | 12.0  | 28    |  7.4  | 3.30  |\n",
       "| POIRE |  620  | 123   | 20.0  | 26    | 18.0  | 6.28  |\n",
       "| POIRE |  626  | 149   | 10.0  | 15    |  7.6  | 5.31  |\n",
       "| POIRE |  664  | 150   | 14.0  | 32    |  7.7  | 3.64  |\n",
       "| POIRE |  810  | 176   | 10.0  | 58    |  6.0  | 5.66  |\n",
       "| POIRE |  815  | 147   | 17.0  | 39    | 15.0  | 5.87  |\n",
       "| POIRE |  817  | 130   |  8.6  | 21    |  8.6  | 5.36  |\n",
       "| POIRE |  898  |  80   | 19.0  | 29    |  9.5  | 4.09  |\n",
       "| POIRE |  910  | 214   | 24.0  | 57    | 13.0  | 5.92  |\n",
       "| POIRE |  927  | 155   | 10.0  | 27    | 10.0  | 4.13  |\n",
       "| POIRE |  938  | 175   | 22.0  | 48    | 12.0  | 7.94  |\n",
       "| POIRE |  951  | 153   | 30.0  | 51    | 14.0  | 4.54  |\n",
       "| POIRE |  970  | 338   | 15.0  | 30    | 14.0  | 5.32  |\n",
       "| POIRE | 1029  | 182   | 20.0  | 54    | 15.0  | 5.63  |\n",
       "| POIRE | 1040  | 197   | 18.0  | 50    |  4.3  | 4.28  |\n",
       "| POIRE | 1087  | 269   | 16.0  | 29    | 10.0  | 6.39  |\n",
       "| POIRE | 1116  | 113   | 30.0  | 69    | 17.0  | 4.03  |\n",
       "| POIRE | 1119  | 124   | 19.0  | 59    | 15.0  | 7.22  |\n",
       "| POIRE | 1121  | 181   | 16.0  | 32    | 17.0  | 3.91  |\n",
       "| POIRE | 1135  | 245   | 18.0  | 32    |  9.1  | 6.81  |\n",
       "| POIRE | 1148  | 127   | 30.0  | 53    | 16.0  | 4.49  |\n",
       "| POIRE | 1154  | 203   | 15.0  | 56    | 14.0  | 3.91  |\n",
       "| POIRE | 1187  | 143   | 30.0  | 61    | 14.0  | 4.16  |\n",
       "| POIRE | 1197  | 152   | 30.0  | 62    | 11.0  | 4.85  |\n",
       "| POIRE | 1237  | 154   | 30.0  | 59    | 10.0  | 5.26  |\n",
       "| POIRE | 1264  | 224   | 20.0  | 49    | 17.0  | 6.23  |\n",
       "| POIRE | 1286  | 144   | 30.0  | 52    | 15.0  | 4.22  |\n",
       "| POIRE | 1401  | 219   | 20.0  | 41    | 22.0  | 4.14  |\n",
       "| POIRE | 1501  | 161   | 19.0  | 25    | 21.0  | 6.84  |\n",
       "| POIRE | 1548  | 254   | 16.0  | 46    | 28.0  | 4.64  |\n",
       "\n"
      ],
      "text/plain": [
       "    ï..TYPE MEOH  ACET  BU1  MEPR ACAL LNPRO1\n",
       "1   KIRSCH    3.0  15.0  0.2  9.0  9.0 5.86  \n",
       "2   KIRSCH   23.0  13.0  0.8  9.0  2.0 6.67  \n",
       "3   KIRSCH   65.0  96.0  0.4  9.0  4.0 5.31  \n",
       "4   KIRSCH  279.0  66.0  0.9 36.0  4.8 5.45  \n",
       "5   KIRSCH  292.0 210.0  1.1 34.0  8.0 4.08  \n",
       "6   KIRSCH  371.0 414.0  1.2 39.0  9.0 6.22  \n",
       "7   KIRSCH  393.0 287.0  1.8 41.0  9.7 6.47  \n",
       "8   KIRSCH  394.0 217.0  1.0 31.0  8.6 6.31  \n",
       "9   KIRSCH  418.0  62.0  0.8 24.0  7.0 5.83  \n",
       "10  KIRSCH  426.0 204.0  1.3 37.0  8.6 6.07  \n",
       "11  KIRSCH  465.0 267.0  1.5 39.0 17.0 8.01  \n",
       "12  KIRSCH  469.0 226.0  1.6 35.0  8.0 6.21  \n",
       "13  KIRSCH  475.0 172.0  1.9 33.0 14.0 6.30  \n",
       "14  KIRSCH  498.0 343.0  2.3 42.0 21.0 6.59  \n",
       "15  KIRSCH  507.0 397.0  3.3 30.0 21.0 5.98  \n",
       "16  KIRSCH  523.0 367.0  2.6 45.0 25.0 6.67  \n",
       "17  KIRSCH  583.0 226.0  2.3 46.0 11.0 6.49  \n",
       "18  KIRSCH  632.5 342.3  2.2 38.2 13.3 7.64  \n",
       "19  MIRAB   595.0 410.0 16.0 24.0 11.4 5.09  \n",
       "20  MIRAB   630.0 243.0 13.0 13.0 13.0 5.87  \n",
       "21  MIRAB   707.0 131.0 15.0 28.0  9.0 4.89  \n",
       "22  MIRAB   748.0 346.0 13.0 28.0 25.0 4.43  \n",
       "23  MIRAB   771.0 339.0 21.0 50.0 13.0 4.69  \n",
       "24  MIRAB   798.0 123.0 15.0 30.0  9.6 4.36  \n",
       "25  MIRAB   842.0 299.0 20.0 27.0 11.0 3.95  \n",
       "26  MIRAB   847.0 381.0 16.0 44.0 20.0 5.26  \n",
       "27  MIRAB   883.0 205.0 17.0 32.0 13.0 5.34  \n",
       "28  MIRAB   885.0  41.0 18.0 34.0  4.7 4.85  \n",
       "29  MIRAB   887.0 423.0  9.3 36.0 15.0 5.86  \n",
       "30  MIRAB   903.0 312.0 24.0 24.0  7.0 4.26  \n",
       "... ...     ...   ...   ...  ...  ...  ...   \n",
       "48  POIRE    546  119   12.0 28    7.4 3.30  \n",
       "49  POIRE    620  123   20.0 26   18.0 6.28  \n",
       "50  POIRE    626  149   10.0 15    7.6 5.31  \n",
       "51  POIRE    664  150   14.0 32    7.7 3.64  \n",
       "52  POIRE    810  176   10.0 58    6.0 5.66  \n",
       "53  POIRE    815  147   17.0 39   15.0 5.87  \n",
       "54  POIRE    817  130    8.6 21    8.6 5.36  \n",
       "55  POIRE    898   80   19.0 29    9.5 4.09  \n",
       "56  POIRE    910  214   24.0 57   13.0 5.92  \n",
       "57  POIRE    927  155   10.0 27   10.0 4.13  \n",
       "58  POIRE    938  175   22.0 48   12.0 7.94  \n",
       "59  POIRE    951  153   30.0 51   14.0 4.54  \n",
       "60  POIRE    970  338   15.0 30   14.0 5.32  \n",
       "61  POIRE   1029  182   20.0 54   15.0 5.63  \n",
       "62  POIRE   1040  197   18.0 50    4.3 4.28  \n",
       "63  POIRE   1087  269   16.0 29   10.0 6.39  \n",
       "64  POIRE   1116  113   30.0 69   17.0 4.03  \n",
       "65  POIRE   1119  124   19.0 59   15.0 7.22  \n",
       "66  POIRE   1121  181   16.0 32   17.0 3.91  \n",
       "67  POIRE   1135  245   18.0 32    9.1 6.81  \n",
       "68  POIRE   1148  127   30.0 53   16.0 4.49  \n",
       "69  POIRE   1154  203   15.0 56   14.0 3.91  \n",
       "70  POIRE   1187  143   30.0 61   14.0 4.16  \n",
       "71  POIRE   1197  152   30.0 62   11.0 4.85  \n",
       "72  POIRE   1237  154   30.0 59   10.0 5.26  \n",
       "73  POIRE   1264  224   20.0 49   17.0 6.23  \n",
       "74  POIRE   1286  144   30.0 52   15.0 4.22  \n",
       "75  POIRE   1401  219   20.0 41   22.0 4.14  \n",
       "76  POIRE   1501  161   19.0 25   21.0 6.84  \n",
       "77  POIRE   1548  254   16.0 46   28.0 4.64  "
      ]
     },
     "metadata": {},
     "output_type": "display_data"
    }
   ],
   "source": [
    "dataset=read.csv(\"alcohol.csv\")\n",
    "dataset"
   ]
  },
  {
   "cell_type": "code",
   "execution_count": 10,
   "id": "7f3dc665",
   "metadata": {},
   "outputs": [
    {
     "name": "stdout",
     "output_type": "stream",
     "text": [
      "   ï..TYPE        MEOH             ACET            BU1             MEPR      \n",
      " KIRSCH:18   Min.   :   3.0   Min.   : 13.0   Min.   : 0.20   Min.   : 9.00  \n",
      " MIRAB :29   1st Qu.: 620.0   1st Qu.:127.0   1st Qu.: 9.30   1st Qu.:26.00  \n",
      " POIRE :30   Median : 910.0   Median :181.0   Median :17.00   Median :33.00  \n",
      "             Mean   : 845.6   Mean   :211.7   Mean   :14.74   Mean   :35.76  \n",
      "             3rd Qu.:1087.0   3rd Qu.:287.0   3rd Qu.:20.00   3rd Qu.:46.00  \n",
      "             Max.   :1548.0   Max.   :495.0   Max.   :30.00   Max.   :72.00  \n",
      "      ACAL           LNPRO1     \n",
      " Min.   : 2.00   Min.   :3.300  \n",
      " 1st Qu.: 8.60   1st Qu.:4.280  \n",
      " Median :11.00   Median :5.260  \n",
      " Mean   :12.51   Mean   :5.301  \n",
      " 3rd Qu.:15.00   3rd Qu.:6.220  \n",
      " Max.   :28.00   Max.   :8.010  \n"
     ]
    }
   ],
   "source": [
    "print(summary(dataset))"
   ]
  },
  {
   "cell_type": "code",
   "execution_count": 11,
   "id": "94810e1b",
   "metadata": {},
   "outputs": [
    {
     "name": "stderr",
     "output_type": "stream",
     "text": [
      "Warning message:\n",
      "\"package 'MASS' was built under R version 3.6.3\""
     ]
    }
   ],
   "source": [
    "#linear discriminant analysis\n",
    "library(MASS)"
   ]
  },
  {
   "cell_type": "code",
   "execution_count": 17,
   "id": "9bdafbb7",
   "metadata": {},
   "outputs": [],
   "source": [
    "set.seed(555)\n",
    "ind <- sample(2, nrow(dataset),\n",
    "              replace = TRUE,\n",
    "              prob = c(0.6, 0.4))\n",
    "training <- dataset[ind==1,]\n",
    "testing <- dataset[ind==2,]"
   ]
  },
  {
   "cell_type": "code",
   "execution_count": 20,
   "id": "a156ab5c",
   "metadata": {},
   "outputs": [
    {
     "data": {
      "text/plain": [
       "Call:\n",
       "lda(ï..TYPE ~ ., data = training)\n",
       "\n",
       "Prior probabilities of groups:\n",
       "   KIRSCH     MIRAB     POIRE \n",
       "0.1960784 0.3921569 0.4117647 \n",
       "\n",
       "Group means:\n",
       "           MEOH   ACET      BU1     MEPR    ACAL LNPRO1\n",
       "KIRSCH 412.2500 208.33  1.44000 33.32000 10.5700  6.290\n",
       "MIRAB  936.6000 254.10 17.96500 32.00000 13.0550  4.844\n",
       "POIRE  986.2381 171.00 18.69524 42.85714 11.9619  5.150\n",
       "\n",
       "Coefficients of linear discriminants:\n",
       "                 LD1          LD2\n",
       "MEOH    0.0035129165  0.001193136\n",
       "ACET   -0.0001014156 -0.007338443\n",
       "BU1     0.1123730635 -0.008095938\n",
       "MEPR   -0.0246169615  0.040460726\n",
       "ACAL   -0.0207123150 -0.026809687\n",
       "LNPRO1 -0.4295609516  0.444604410\n",
       "\n",
       "Proportion of trace:\n",
       "   LD1    LD2 \n",
       "0.8977 0.1023 "
      ]
     },
     "metadata": {},
     "output_type": "display_data"
    },
    {
     "data": {
      "text/html": [
       "<dl>\n",
       "\t<dt>$names</dt>\n",
       "\t\t<dd><ol class=list-inline>\n",
       "\t<li>'prior'</li>\n",
       "\t<li>'counts'</li>\n",
       "\t<li>'means'</li>\n",
       "\t<li>'scaling'</li>\n",
       "\t<li>'lev'</li>\n",
       "\t<li>'svd'</li>\n",
       "\t<li>'N'</li>\n",
       "\t<li>'call'</li>\n",
       "\t<li>'terms'</li>\n",
       "\t<li>'xlevels'</li>\n",
       "</ol>\n",
       "</dd>\n",
       "\t<dt>$class</dt>\n",
       "\t\t<dd>'lda'</dd>\n",
       "</dl>\n"
      ],
      "text/latex": [
       "\\begin{description}\n",
       "\\item[\\$names] \\begin{enumerate*}\n",
       "\\item 'prior'\n",
       "\\item 'counts'\n",
       "\\item 'means'\n",
       "\\item 'scaling'\n",
       "\\item 'lev'\n",
       "\\item 'svd'\n",
       "\\item 'N'\n",
       "\\item 'call'\n",
       "\\item 'terms'\n",
       "\\item 'xlevels'\n",
       "\\end{enumerate*}\n",
       "\n",
       "\\item[\\$class] 'lda'\n",
       "\\end{description}\n"
      ],
      "text/markdown": [
       "$names\n",
       ":   1. 'prior'\n",
       "2. 'counts'\n",
       "3. 'means'\n",
       "4. 'scaling'\n",
       "5. 'lev'\n",
       "6. 'svd'\n",
       "7. 'N'\n",
       "8. 'call'\n",
       "9. 'terms'\n",
       "10. 'xlevels'\n",
       "\n",
       "\n",
       "\n",
       "$class\n",
       ":   'lda'\n",
       "\n",
       "\n"
      ],
      "text/plain": [
       "$names\n",
       " [1] \"prior\"   \"counts\"  \"means\"   \"scaling\" \"lev\"     \"svd\"     \"N\"      \n",
       " [8] \"call\"    \"terms\"   \"xlevels\"\n",
       "\n",
       "$class\n",
       "[1] \"lda\"\n"
      ]
     },
     "metadata": {},
     "output_type": "display_data"
    }
   ],
   "source": [
    "# Linear discriminant analysis\n",
    "library(MASS)\n",
    "linear <- lda(ï..TYPE~., training)\n",
    "linear\n",
    "attributes(linear)"
   ]
  },
  {
   "cell_type": "code",
   "execution_count": 32,
   "id": "23ec3812",
   "metadata": {},
   "outputs": [
    {
     "data": {
      "image/png": "[encoded data removed]",
      "text/plain": [
       "plot without title"
      ]
     },
     "metadata": {},
     "output_type": "display_data"
    },
    {
     "data": {
      "image/png": "[encoded data removed]",
      "text/plain": [
       "plot without title"
      ]
     },
     "metadata": {},
     "output_type": "display_data"
    }
   ],
   "source": [
    "# Histogram\n",
    "p <- predict(linear, training)\n",
    "ldahist(data = p$x[,1], g = training$ï..TYPE)\n",
    "ldahist(data = p$x[,2], g = training$ï..TYPE)"
   ]
  },
  {
   "cell_type": "code",
   "execution_count": 29,
   "id": "26c2272f",
   "metadata": {
    "scrolled": false
   },
   "outputs": [
    {
     "name": "stderr",
     "output_type": "stream",
     "text": [
      "also installing the dependencies 'glue', 'R.methodsS3', 'R.oo', 'R.utils', 'cli', 'R.cache', 'miniUI', 'styler', 'classInt', 'labelled', 'combinat', 'questionr'\n",
      "\n"
     ]
    },
    {
     "name": "stdout",
     "output_type": "stream",
     "text": [
      "\n",
      "  There are binary versions available but the source versions are later:\n",
      "          binary source needs_compilation\n",
      "glue       1.4.2  1.6.2              TRUE\n",
      "R.utils   2.10.1 2.11.0             FALSE\n",
      "cli        2.5.0  3.3.0              TRUE\n",
      "styler     1.4.1  1.7.0             FALSE\n",
      "labelled   2.8.0  2.9.1             FALSE\n",
      "questionr  0.7.3  0.7.7             FALSE\n",
      "klaR      0.6-15  1.7-0             FALSE\n",
      "\n",
      "  Binaries will be installed\n",
      "package 'glue' successfully unpacked and MD5 sums checked\n"
     ]
    },
    {
     "name": "stderr",
     "output_type": "stream",
     "text": [
      "Warning message:\n",
      "\"cannot remove prior installation of package 'glue'\"Warning message in file.copy(savedcopy, lib, recursive = TRUE):\n",
      "\"problem copying C:\\Users\\eyanasri\\anaconda3\\envs\\env\\Lib\\R\\library\\00LOCK\\glue\\libs\\x64\\glue.dll to C:\\Users\\eyanasri\\anaconda3\\envs\\env\\Lib\\R\\library\\glue\\libs\\x64\\glue.dll: Permission denied\"Warning message:\n",
      "\"restored 'glue'\""
     ]
    },
    {
     "name": "stdout",
     "output_type": "stream",
     "text": [
      "package 'R.methodsS3' successfully unpacked and MD5 sums checked\n",
      "package 'R.oo' successfully unpacked and MD5 sums checked\n",
      "package 'cli' successfully unpacked and MD5 sums checked\n",
      "package 'R.cache' successfully unpacked and MD5 sums checked\n",
      "package 'miniUI' successfully unpacked and MD5 sums checked\n",
      "package 'classInt' successfully unpacked and MD5 sums checked\n",
      "package 'combinat' successfully unpacked and MD5 sums checked\n",
      "\n",
      "The downloaded binary packages are in\n",
      "\tC:\\Users\\eyanasri\\AppData\\Local\\Temp\\Rtmp8Ob1mJ\\downloaded_packages\n"
     ]
    },
    {
     "name": "stderr",
     "output_type": "stream",
     "text": [
      "installing the source packages 'R.utils', 'styler', 'labelled', 'questionr', 'klaR'\n",
      "\n"
     ]
    }
   ],
   "source": [
    "install.packages(\"klaR\")"
   ]
  },
  {
   "cell_type": "code",
   "execution_count": 31,
   "id": "92fe9c90",
   "metadata": {
    "scrolled": true
   },
   "outputs": [
    {
     "data": {
      "image/png": "[encoded data removed]",
      "text/plain": [
       "plot without title"
      ]
     },
     "metadata": {},
     "output_type": "display_data"
    },
    {
     "data": {
      "image/png": "[encoded data removed]",
      "text/plain": [
       "Plot with title \"Partition Plot\""
      ]
     },
     "metadata": {},
     "output_type": "display_data"
    },
    {
     "data": {
      "image/png": "[encoded data removed]",
      "text/plain": [
       "plot without title"
      ]
     },
     "metadata": {},
     "output_type": "display_data"
    },
    {
     "data": {
      "image/png": "[encoded data removed]",
      "text/plain": [
       "Plot with title \"Partition Plot\""
      ]
     },
     "metadata": {},
     "output_type": "display_data"
    }
   ],
   "source": [
    "# Partition plot\n",
    "library(klaR)\n",
    "partimat(ï..TYPE~., data = training, method = \"lda\")\n",
    "partimat(ï..TYPE~., data = training, method = \"qda\")"
   ]
  },
  {
   "cell_type": "code",
   "execution_count": 33,
   "id": "792b9af8",
   "metadata": {},
   "outputs": [
    {
     "data": {
      "text/plain": [
       "         Actual\n",
       "Predicted KIRSCH MIRAB POIRE\n",
       "   KIRSCH     10     0     0\n",
       "   MIRAB       0    15     4\n",
       "   POIRE       0     5    17"
      ]
     },
     "metadata": {},
     "output_type": "display_data"
    },
    {
     "data": {
      "text/html": [
       "0.823529411764706"
      ],
      "text/latex": [
       "0.823529411764706"
      ],
      "text/markdown": [
       "0.823529411764706"
      ],
      "text/plain": [
       "[1] 0.8235294"
      ]
     },
     "metadata": {},
     "output_type": "display_data"
    }
   ],
   "source": [
    "# Confusion matrix and accuracy - training data\n",
    "p1 <- predict(linear, training)$class\n",
    "tab <- table(Predicted = p1, Actual = training$ï..TYPE)\n",
    "tab\n",
    "sum(diag(tab))/sum(tab)"
   ]
  },
  {
   "cell_type": "code",
   "execution_count": 34,
   "id": "bdea9be8",
   "metadata": {},
   "outputs": [
    {
     "data": {
      "text/plain": [
       "         Actual\n",
       "Predicted KIRSCH MIRAB POIRE\n",
       "   KIRSCH      8     0     0\n",
       "   MIRAB       0     4     3\n",
       "   POIRE       0     5     6"
      ]
     },
     "metadata": {},
     "output_type": "display_data"
    },
    {
     "data": {
      "text/html": [
       "0.692307692307692"
      ],
      "text/latex": [
       "0.692307692307692"
      ],
      "text/markdown": [
       "0.692307692307692"
      ],
      "text/plain": [
       "[1] 0.6923077"
      ]
     },
     "metadata": {},
     "output_type": "display_data"
    }
   ],
   "source": [
    "# Confusion matrix and accuracy - testing data\n",
    "p2 <- predict(linear, testing)$class\n",
    "tab1 <- table(Predicted = p2, Actual = testing$ï..TYPE)\n",
    "tab1\n",
    "sum(diag(tab1))/sum(tab1)"
   ]
  },
  {
   "cell_type": "code",
   "execution_count": null,
   "id": "e0a0983d",
   "metadata": {},
   "outputs": [],
   "source": []
  }
 ],
 "metadata": {
  "kernelspec": {
   "display_name": "R",
   "language": "R",
   "name": "ir"
  },
  "language_info": {
   "codemirror_mode": "r",
   "file_extension": ".r",
   "mimetype": "text/x-r-source",
   "name": "R",
   "pygments_lexer": "r",
   "version": "3.6.1"
  }
 },
 "nbformat": 4,
 "nbformat_minor": 5
}
